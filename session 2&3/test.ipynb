{
 "cells": [
  {
   "cell_type": "code",
   "execution_count": 2,
   "metadata": {},
   "outputs": [],
   "source": [
    "COURSE_PREFIX = 'de-c2w1-dynamodb'"
   ]
  },
  {
   "cell_type": "code",
   "execution_count": 3,
   "metadata": {},
   "outputs": [],
   "source": [
    "capacity_units = {'ReadCapacityUnits': 10, 'WriteCapacityUnits': 5}\n",
    "\n",
    "product_catalog_table = {'table_name': f'{COURSE_PREFIX}-ProductCatalog',\n",
    "                         'kwargs': {\n",
    "                             'KeySchema': [{'AttributeName': 'Id', 'KeyType': 'HASH'}],\n",
    "                             'AttributeDefinitions': [{'AttributeName': 'Id', 'AttributeType': 'N'}],\n",
    "                             'ProvisionedThroughput': capacity_units\n",
    "                         }\n",
    "                        }\n",
    "\n",
    "forum_table = {'table_name': f'{COURSE_PREFIX}-Forum',\n",
    "                'kwargs': {\n",
    "                    'KeySchema': [{'AttributeName': 'Name', 'KeyType': 'HASH'}],\n",
    "                    'AttributeDefinitions': [{'AttributeName': 'Name', 'AttributeType': 'S'}],\n",
    "                    'ProvisionedThroughput': capacity_units\n",
    "                }\n",
    "              }\n",
    "\n",
    "thread_table = {'table_name': f'{COURSE_PREFIX}-Thread',\n",
    "                'kwargs': {\n",
    "                    'KeySchema': [{'AttributeName': 'ForumName', 'KeyType': 'HASH'}, \n",
    "                                  {'AttributeName': 'Subject', 'KeyType': 'RANGE'}],\n",
    "                    'AttributeDefinitions': [{'AttributeName': 'ForumName', 'AttributeType': 'S'},\n",
    "                                             {'AttributeName': 'Subject', 'AttributeType': 'S'}],\n",
    "                    'ProvisionedThroughput': capacity_units\n",
    "                }\n",
    "               }\n",
    "\n",
    "reply_table = {'table_name': f'{COURSE_PREFIX}-Reply',\n",
    "                'kwargs': {\n",
    "                    'KeySchema': [{'AttributeName': 'Id', 'KeyType': 'HASH'}, \n",
    "                                  {'AttributeName': 'ReplyDateTime', 'KeyType': 'RANGE'}],\n",
    "                    'AttributeDefinitions': [{'AttributeName': 'Id', 'AttributeType': 'S'},\n",
    "                                             {'AttributeName': 'ReplyDateTime', 'AttributeType': 'S'}],\n",
    "                    'ProvisionedThroughput': capacity_units\n",
    "                }\n",
    "              }"
   ]
  },
  {
   "cell_type": "code",
   "execution_count": 4,
   "metadata": {},
   "outputs": [
    {
     "data": {
      "text/plain": [
       "'de-c2w1-dynamodb-ProductCatalog'"
      ]
     },
     "execution_count": 4,
     "metadata": {},
     "output_type": "execute_result"
    }
   ],
   "source": [
    "product_catalog_table['table_name']"
   ]
  },
  {
   "cell_type": "code",
   "execution_count": 5,
   "metadata": {},
   "outputs": [
    {
     "name": "stdout",
     "output_type": "stream",
     "text": [
      "ProductCatalog\n",
      "Thread\n"
     ]
    }
   ],
   "source": [
    "for dynamodb_tab in [product_catalog_table, thread_table]:\n",
    "    file_name = dynamodb_tab['table_name'].split('-')[-1]\n",
    "    print(file_name)"
   ]
  }
 ],
 "metadata": {
  "kernelspec": {
   "display_name": "venv",
   "language": "python",
   "name": "python3"
  },
  "language_info": {
   "codemirror_mode": {
    "name": "ipython",
    "version": 3
   },
   "file_extension": ".py",
   "mimetype": "text/x-python",
   "name": "python",
   "nbconvert_exporter": "python",
   "pygments_lexer": "ipython3",
   "version": "3.12.8"
  }
 },
 "nbformat": 4,
 "nbformat_minor": 2
}
